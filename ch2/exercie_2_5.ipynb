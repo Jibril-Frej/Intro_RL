{
 "cells": [
  {
   "cell_type": "code",
   "execution_count": null,
   "id": "be5b7986",
   "metadata": {},
   "outputs": [],
   "source": [
    "import numpy as np\n",
    "import matplotlib.pyplot as plt\n",
    "from utils import e_greedy_bandit"
   ]
  },
  {
   "cell_type": "code",
   "execution_count": null,
   "id": "8e6db891",
   "metadata": {},
   "outputs": [],
   "source": [
    "import importlib\n",
    "import utils\n",
    "importlib.reload(utils)\n",
    "from utils import e_greedy_bandit"
   ]
  },
  {
   "cell_type": "code",
   "execution_count": null,
   "id": "037cfe02",
   "metadata": {},
   "outputs": [],
   "source": [
    "k = 10\n",
    "max_steps = 1000\n",
    "nb_runs = 2000\n",
    "eps = 0.1\n",
    "avg_reward = []\n",
    "colors = ['Blue', 'Red']\n",
    "labels = ['Avg', 'alhpa=0.1']"
   ]
  },
  {
   "cell_type": "code",
   "execution_count": null,
   "id": "dfe01484",
   "metadata": {},
   "outputs": [],
   "source": [
    "avg_reward.append(np.zeros(max_steps))\n",
    "for j in range(1, nb_runs+1):\n",
    "    avg_reward[-1] += 1/j*(e_greedy_bandit(k, max_steps, eps, stationnary=False) - avg_reward[-1])\n",
    "\n",
    "avg_reward.append(np.zeros(max_steps))\n",
    "for j in range(1, nb_runs+1):\n",
    "    avg_reward[-1] += 1/j*(e_greedy_bandit(k, max_steps, eps, stationnary=False, alpha=0.1) - avg_reward[-1])"
   ]
  },
  {
   "cell_type": "code",
   "execution_count": null,
   "id": "c8a4ac37",
   "metadata": {},
   "outputs": [],
   "source": [
    "fig, ax = plt.subplots(figsize=(16, 8))\n",
    "for r,c,l in zip(avg_reward, colors, labels):\n",
    "    ax.plot(r, color = c, label = l)\n",
    "plt.ylabel('Average reward')\n",
    "plt.xlabel('Steps')\n",
    "plt.legend(loc=\"lower right\")\n",
    "plt.ylim([0, 2.5])\n",
    "#plt.savefig('avg_vs_cst_non_stationnary.pdf')\n",
    "plt.show()"
   ]
  }
 ],
 "metadata": {
  "kernelspec": {
   "display_name": "Python 3 (ipykernel)",
   "language": "python",
   "name": "python3"
  },
  "language_info": {
   "codemirror_mode": {
    "name": "ipython",
    "version": 3
   },
   "file_extension": ".py",
   "mimetype": "text/x-python",
   "name": "python",
   "nbconvert_exporter": "python",
   "pygments_lexer": "ipython3",
   "version": "3.8.12"
  }
 },
 "nbformat": 4,
 "nbformat_minor": 5
}
